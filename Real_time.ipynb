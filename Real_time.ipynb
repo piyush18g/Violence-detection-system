{
 "cells": [
  {
   "cell_type": "code",
   "execution_count": 3,
   "id": "366b4317-1f17-49a3-a037-9e6501d7f523",
   "metadata": {},
   "outputs": [],
   "source": [
    "import os\n",
    "import shutil\n",
    "import cv2\n",
    "import math\n",
    "import random\n",
    "import numpy as np\n",
    "import datetime as dt\n",
    "import tensorflow\n",
    "import keras\n",
    "from collections import deque\n",
    "import matplotlib.pyplot as plt\n",
    "import tensorflow as tf\n",
    "%matplotlib inline\n",
    "\n",
    "from sklearn.model_selection import train_test_split\n",
    "\n",
    "from keras.layers import *\n",
    "from keras.models import Sequential\n",
    "from tensorflow.keras.utils import to_categorical\n",
    "from keras.callbacks import EarlyStopping\n",
    "from tensorflow.keras.utils import plot_model"
   ]
  },
  {
   "cell_type": "code",
   "execution_count": 5,
   "id": "7e4142ff-a023-4c8a-b31f-5247c5c3933e",
   "metadata": {},
   "outputs": [
    {
     "name": "stderr",
     "output_type": "stream",
     "text": [
      "WARNING:absl:Compiled the loaded model, but the compiled metrics have yet to be built. `model.compile_metrics` will be empty until you train or evaluate the model.\n"
     ]
    }
   ],
   "source": [
    "# Load the saved model\n",
    "from tensorflow import keras\n",
    "MoBiLSTM_model = keras.models.load_model(r'C:\\Users\\HP\\projects\\ML\\violence\\model_MobileNet-LSTM_01.h5')\n",
    "\n",
    "# Specify the height and width to which each video frame will be resized in our dataset.\n",
    "IMAGE_HEIGHT , IMAGE_WIDTH = 64, 64\n",
    "\n",
    "# Specify the number of frames of a video that will be fed to the model as one sequence.\n",
    "SEQUENCE_LENGTH = 24\n",
    "\n",
    "#DATASET_DIR = \"/content/drive/MyDrive/violence/Real Life Violence Dataset\"\n",
    "CLASSES_LIST = [\"NonViolence\",\"Violence\"]"
   ]
  },
  {
   "cell_type": "code",
   "execution_count": null,
   "id": "230a6569-197b-4851-ba1c-2ad6bb3cc766",
   "metadata": {},
   "outputs": [],
   "source": [
    "cap = cv2.VideoCapture(0)\n",
    "frames_queue = deque(maxlen = SEQUENCE_LENGTH)\n",
    "SEQUENCE_LENGTH = 25\n",
    "while True:\n",
    "    ret , frame = cap.read()\n",
    "    if not ret:  # Check if frame was read successfully\n",
    "        print(\"Error reading frame. Exiting loop.\")\n",
    "        break  \n",
    "    resized_frame = cv2.resize(frame, (IMAGE_HEIGHT, IMAGE_WIDTH))\n",
    "        # Normalize the resized frame.\n",
    "    normalized_frame = resized_frame / 255\n",
    "        # Passing the  pre-processed frames to the model and get the predicted probabilities.\n",
    "    frames_queue.append(normalized_frame)\n",
    "        # We Need at Least number of SEQUENCE_LENGTH Frames to perform a prediction.\n",
    "        # Check if the number of frames in the queue are equal to the fixed sequence length.\n",
    "    if len(frames_queue) == SEQUENCE_LENGTH:\n",
    "        predicted_labels_probabilities = MoBiLSTM_model.predict(np.expand_dims(frames_queue, axis = 0))[0]\n",
    "        predicted_label = np.argmax(predicted_labels_probabilities)\n",
    "        predicted_class_name = CLASSES_LIST[predicted_label]\n",
    "        if predicted_class_name == \"Violence\":\n",
    "            cv2.putText(frame, predicted_class_name, (5, 100), cv2.FONT_HERSHEY_SIMPLEX, 3, (0, 0, 255), 12)\n",
    "        else:\n",
    "            cv2.putText(frame, predicted_class_name, (5, 100), cv2.FONT_HERSHEY_SIMPLEX, 3, (0, 255, 0), 12)\n",
    "    cv2.imshow('Kya aap hinsak ho? ', frame)\n",
    "    if cv2.waitKey(1) & 0xFF == ord('q'):\n",
    "        break\n",
    "\n",
    "cap.release()\n",
    "cv2.destroyAllWindows()"
   ]
  },
  {
   "cell_type": "code",
   "execution_count": null,
   "id": "601a1f18-3bcb-499a-9996-a6ba96b1854f",
   "metadata": {},
   "outputs": [],
   "source": []
  }
 ],
 "metadata": {
  "kernelspec": {
   "display_name": "Python 3 (ipykernel)",
   "language": "python",
   "name": "python3"
  },
  "language_info": {
   "codemirror_mode": {
    "name": "ipython",
    "version": 3
   },
   "file_extension": ".py",
   "mimetype": "text/x-python",
   "name": "python",
   "nbconvert_exporter": "python",
   "pygments_lexer": "ipython3",
   "version": "3.12.6"
  }
 },
 "nbformat": 4,
 "nbformat_minor": 5
}
